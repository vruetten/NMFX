{
 "cells": [
  {
   "cell_type": "code",
   "execution_count": 9,
   "id": "7edf2e25",
   "metadata": {},
   "outputs": [],
   "source": [
    "# ! cd /Users/ruttenv/Documents/projects/nmfx/"
   ]
  },
  {
   "cell_type": "code",
   "execution_count": 10,
   "id": "da90f205",
   "metadata": {},
   "outputs": [
    {
     "name": "stdout",
     "output_type": "stream",
     "text": [
      "/groups/ahrens/home/ruttenv/python_packages/nmfx/notebooks\r\n"
     ]
    }
   ],
   "source": [
    "!pwd"
   ]
  },
  {
   "cell_type": "code",
   "execution_count": 11,
   "id": "5f17b6bc",
   "metadata": {},
   "outputs": [],
   "source": [
    "path = '/Users/ruttenv/Documents/projects/nmfx/'\n",
    "path = '/groups/ahrens/home/ruttenv/python_packages/nmfx/'\n",
    "import sys\n",
    "sys.path.append(path)"
   ]
  },
  {
   "cell_type": "code",
   "execution_count": 12,
   "id": "33e44f75",
   "metadata": {},
   "outputs": [
    {
     "data": {
      "text/plain": [
       "<module 'nmfx' from '/groups/ahrens/home/ruttenv/python_packages/nmfx/nmfx/__init__.py'>"
      ]
     },
     "execution_count": 12,
     "metadata": {},
     "output_type": "execute_result"
    }
   ],
   "source": [
    "from nmfx import initialize\n",
    "import matplotlib.pyplot as pl\n",
    "from importlib import reload\n",
    "import numpy as np\n",
    "from nmfx.kernels import build_K, sample_from_K\n",
    "from nmfx import losses\n",
    "from nmfx.utils import log1pexp\n",
    "from nmfx.parameters import Parameters\n",
    "import nmfx\n",
    "from nmfx import kernels\n",
    "import os\n",
    "np.random.seed(0)\n",
    "reload(kernels)\n",
    "reload(nmfx)"
   ]
  },
  {
   "cell_type": "code",
   "execution_count": 13,
   "id": "6d29d586",
   "metadata": {},
   "outputs": [],
   "source": [
    "np.random.seed(0)\n",
    "t = 100\n",
    "k = 5\n",
    "coords_dim = 3\n",
    "dim = 30\n",
    "\n",
    "def generate_toy_data(dim, k, t):\n",
    "    xv, yv = np.meshgrid(np.arange(dim)/dim, np.arange(dim)/dim)\n",
    "    coords = np.vstack([xv.flatten()[None], yv.flatten()[None]]).T\n",
    "    taus = np.linspace(0.001, 0.2, k)[::-1]\n",
    "    dist = ((coords[None]-coords[:,None])**2).sum(-1)\n",
    "    dist_coef = [np.exp(-dist/tau) + np.diag(np.arange(dim*dim))*1e-4 for tau in taus]\n",
    "    Wkd = log1pexp(np.array([np.random.multivariate_normal(np.zeros(dim*dim), K, size = 1) for K in dist_coef])).squeeze()\n",
    "    H = log1pexp(np.random.randn(t, k))\n",
    "    X = H@Wkd\n",
    "    return X, H, Wkd, taus, coords\n",
    "\n",
    "X, H, Wkd, taus, coordinates = generate_toy_data(dim, k, t)"
   ]
  },
  {
   "cell_type": "code",
   "execution_count": 14,
   "id": "41de8289",
   "metadata": {},
   "outputs": [
    {
     "data": {
      "text/plain": [
       "array([0.2    , 0.15025, 0.1005 , 0.05075, 0.001  ])"
      ]
     },
     "execution_count": 14,
     "metadata": {},
     "output_type": "execute_result"
    }
   ],
   "source": [
    "# X.min(), X.max(), H.min(), H.max(), Wkd.min(), Wkd.max()\n",
    "taus"
   ]
  },
  {
   "cell_type": "code",
   "execution_count": 15,
   "id": "98e7e999",
   "metadata": {},
   "outputs": [],
   "source": [
    "initial_values = {}\n",
    "initial_values['H'] = H\n",
    "initial_values['W'] = Wkd\n",
    "\n",
    "parameters = Parameters()\n",
    "parameters.batch_size = t\n",
    "parameters.max_iter = 100\n",
    "parameters.l2_space = 1.0\n",
    "parameters.l1_W = 0\n",
    "save_path = '/nrs/ahrens/Virginia_nrs/nmf_test/'\n",
    "os.makedirs(save_path, exist_ok=True)\n",
    "save_iter = 100"
   ]
  },
  {
   "cell_type": "code",
   "execution_count": 16,
   "id": "1043cee1",
   "metadata": {},
   "outputs": [
    {
     "name": "stdout",
     "output_type": "stream",
     "text": [
      "H & W initialized with given initial values\n",
      "total batch num: 1\n",
      "compiling update function\n",
      "Iteration 0, loss=451.7769165039, h_diff=nan, grad_norm=nan, time=0.0007min\n",
      "log1pexp\n",
      "nan nan\n",
      "intermediate results saved\n",
      "compiling update function\n",
      "compiling update function\n",
      "compiling update function\n",
      "compiling update function\n",
      "compiling update function\n",
      "compiling update function\n",
      "compiling update function\n",
      "compiling update function\n",
      "compiling update function\n",
      "compiling update function\n",
      "compiling update function\n",
      "compiling update function\n",
      "compiling update function\n",
      "compiling update function\n",
      "compiling update function\n",
      "compiling update function\n",
      "compiling update function\n",
      "compiling update function\n",
      "compiling update function\n",
      "compiling update function\n",
      "Iteration 20, loss=nan, h_diff=nan, grad_norm=nan, time=0.01min\n",
      "log1pexp\n",
      "nan nan\n",
      "compiling update function\n",
      "compiling update function\n",
      "compiling update function\n",
      "compiling update function\n",
      "compiling update function\n",
      "compiling update function\n",
      "compiling update function\n",
      "compiling update function\n",
      "compiling update function\n",
      "compiling update function\n",
      "compiling update function\n",
      "compiling update function\n",
      "compiling update function\n",
      "compiling update function\n",
      "compiling update function\n",
      "compiling update function\n",
      "compiling update function\n",
      "compiling update function\n",
      "compiling update function\n",
      "compiling update function\n",
      "Iteration 40, loss=nan, h_diff=nan, grad_norm=nan, time=0.0187min\n",
      "log1pexp\n",
      "nan nan\n",
      "compiling update function\n",
      "compiling update function\n",
      "compiling update function\n",
      "compiling update function\n",
      "compiling update function\n",
      "compiling update function\n",
      "compiling update function\n",
      "compiling update function\n",
      "compiling update function\n",
      "compiling update function\n",
      "compiling update function\n",
      "compiling update function\n",
      "compiling update function\n",
      "compiling update function\n",
      "compiling update function\n",
      "compiling update function\n",
      "compiling update function\n",
      "compiling update function\n",
      "compiling update function\n",
      "compiling update function\n",
      "Iteration 60, loss=nan, h_diff=nan, grad_norm=nan, time=0.0275min\n",
      "log1pexp\n",
      "nan nan\n",
      "compiling update function\n",
      "compiling update function\n",
      "compiling update function\n",
      "compiling update function\n",
      "compiling update function\n",
      "compiling update function\n",
      "compiling update function\n",
      "compiling update function\n",
      "compiling update function\n",
      "compiling update function\n",
      "compiling update function\n",
      "compiling update function\n",
      "compiling update function\n",
      "compiling update function\n",
      "compiling update function\n",
      "compiling update function\n",
      "compiling update function\n",
      "compiling update function\n",
      "compiling update function\n",
      "compiling update function\n",
      "Iteration 80, loss=nan, h_diff=nan, grad_norm=nan, time=0.0362min\n",
      "log1pexp\n",
      "nan nan\n",
      "compiling update function\n",
      "compiling update function\n",
      "compiling update function\n",
      "compiling update function\n",
      "compiling update function\n",
      "compiling update function\n",
      "compiling update function\n",
      "compiling update function\n",
      "compiling update function\n",
      "compiling update function\n",
      "compiling update function\n",
      "compiling update function\n",
      "compiling update function\n",
      "compiling update function\n",
      "compiling update function\n",
      "compiling update function\n",
      "compiling update function\n",
      "compiling update function\n",
      "compiling update function\n",
      "Iteration 99, loss=nan, h_diff=nan, grad_norm=nan, time=0.0443min\n",
      "Reached maximum number of set iterations!\n"
     ]
    }
   ],
   "source": [
    "reload(nmfx)\n",
    "H, W, log = nmfx.nmf(X, k, parameters,\\\n",
    "                     taus = taus, \\\n",
    "                     coordinates = coordinates,\\\n",
    "                     save_path = save_path, \\\n",
    "                     save_iter = save_iter, \\\n",
    "                     initial_values = initial_values)"
   ]
  },
  {
   "cell_type": "code",
   "execution_count": null,
   "id": "ad301f51",
   "metadata": {},
   "outputs": [],
   "source": []
  },
  {
   "cell_type": "code",
   "execution_count": 17,
   "id": "fc09b010",
   "metadata": {},
   "outputs": [
    {
     "ename": "NameError",
     "evalue": "name 'x' is not defined",
     "output_type": "error",
     "traceback": [
      "\u001b[0;31m---------------------------------------------------------------------------\u001b[0m",
      "\u001b[0;31mNameError\u001b[0m                                 Traceback (most recent call last)",
      "Input \u001b[0;32mIn [17]\u001b[0m, in \u001b[0;36m<cell line: 1>\u001b[0;34m()\u001b[0m\n\u001b[1;32m      2\u001b[0m pl\u001b[38;5;241m.\u001b[39mfigure()\n\u001b[1;32m      3\u001b[0m pl\u001b[38;5;241m.\u001b[39mtitle(taus[ind])\n\u001b[0;32m----> 4\u001b[0m pl\u001b[38;5;241m.\u001b[39mimshow(\u001b[43mx\u001b[49m[ind])\n",
      "\u001b[0;31mNameError\u001b[0m: name 'x' is not defined"
     ]
    },
    {
     "data": {
      "image/png": "[encoded data removed]",
      "text/plain": [
       "<Figure size 432x288 with 1 Axes>"
      ]
     },
     "metadata": {
      "needs_background": "light"
     },
     "output_type": "display_data"
    }
   ],
   "source": [
    "for ind in range(k):\n",
    "    pl.figure()\n",
    "    pl.title(taus[ind])\n",
    "    pl.imshow(x[ind])"
   ]
  },
  {
   "cell_type": "code",
   "execution_count": null,
   "id": "6cb7d5bc",
   "metadata": {},
   "outputs": [],
   "source": [
    "\n",
    "pl.imshow(x.reshape([dim, dim]))"
   ]
  },
  {
   "cell_type": "code",
   "execution_count": null,
   "id": "a9d584d4",
   "metadata": {},
   "outputs": [],
   "source": [
    "pl.imshow(dist_coef[0])"
   ]
  },
  {
   "cell_type": "code",
   "execution_count": null,
   "id": "5596aa2c",
   "metadata": {},
   "outputs": [],
   "source": [
    "x = kernels.sample_from_K(K[0])\n",
    "x"
   ]
  },
  {
   "cell_type": "code",
   "execution_count": null,
   "id": "93ed1361",
   "metadata": {},
   "outputs": [],
   "source": [
    "pl.imshow(x.reshape([dim, dim]))\n"
   ]
  },
  {
   "cell_type": "code",
   "execution_count": null,
   "id": "c1ca7bce",
   "metadata": {},
   "outputs": [],
   "source": [
    "from nmfx.utils."
   ]
  }
 ],
 "metadata": {
  "kernelspec": {
   "display_name": "Python 3 (ipykernel)",
   "language": "python",
   "name": "python3"
  },
  "language_info": {
   "codemirror_mode": {
    "name": "ipython",
    "version": 3
   },
   "file_extension": ".py",
   "mimetype": "text/x-python",
   "name": "python",
   "nbconvert_exporter": "python",
   "pygments_lexer": "ipython3",
   "version": "3.9.12"
  }
 },
 "nbformat": 4,
 "nbformat_minor": 5
}
